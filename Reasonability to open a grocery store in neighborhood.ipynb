{
  "nbformat": 4,
  "nbformat_minor": 0,
  "metadata": {
    "colab": {
      "provenance": []
    },
    "kernelspec": {
      "name": "python3",
      "display_name": "Python 3"
    },
    "language_info": {
      "name": "python"
    }
  },
  "cells": [
    {
      "cell_type": "code",
      "execution_count": 1,
      "metadata": {
        "id": "XARbmYaj27DW"
      },
      "outputs": [],
      "source": [
        "import pandas as pd\n",
        "import numpy as np"
      ]
    },
    {
      "cell_type": "code",
      "source": [
        "dataset=pd.read_csv(\"/content/Grocery Database.csv\")\n",
        "dataset"
      ],
      "metadata": {
        "id": "erWj4Gc33QRR",
        "colab": {
          "base_uri": "https://localhost:8080/",
          "height": 682
        },
        "outputId": "a55d670b-5fb3-4abb-a268-29ba91399eeb"
      },
      "execution_count": 19,
      "outputs": [
        {
          "output_type": "execute_result",
          "data": {
            "text/plain": [
              "     Flat no.      Name  No. of members  \\\n",
              "0         101     Anish               2   \n",
              "1         102     Gupta               4   \n",
              "2         103    Anisha               3   \n",
              "3         104    Sanjay               5   \n",
              "4         105  Pankhuri               3   \n",
              "..        ...       ...             ...   \n",
              "121      1201      Amit               2   \n",
              "122      1202        Om               3   \n",
              "123      1203     Jhamb               7   \n",
              "124      1204     Kusum               5   \n",
              "125      1210     Lucky               3   \n",
              "\n",
              "     Amt of grocery purchased in a week(in kg)  Wholesale/Retail  \n",
              "0                                            4                 1  \n",
              "1                                            8                 0  \n",
              "2                                            7                 1  \n",
              "3                                           13                 0  \n",
              "4                                            4                 1  \n",
              "..                                         ...               ...  \n",
              "121                                          3                 1  \n",
              "122                                          3                 1  \n",
              "123                                         20                 0  \n",
              "124                                         18                 0  \n",
              "125                                         10                 0  \n",
              "\n",
              "[126 rows x 5 columns]"
            ],
            "text/html": [
              "\n",
              "  <div id=\"df-c839b77d-a220-4cbd-a7b5-e372e1853fe1\" class=\"colab-df-container\">\n",
              "    <div>\n",
              "<style scoped>\n",
              "    .dataframe tbody tr th:only-of-type {\n",
              "        vertical-align: middle;\n",
              "    }\n",
              "\n",
              "    .dataframe tbody tr th {\n",
              "        vertical-align: top;\n",
              "    }\n",
              "\n",
              "    .dataframe thead th {\n",
              "        text-align: right;\n",
              "    }\n",
              "</style>\n",
              "<table border=\"1\" class=\"dataframe\">\n",
              "  <thead>\n",
              "    <tr style=\"text-align: right;\">\n",
              "      <th></th>\n",
              "      <th>Flat no.</th>\n",
              "      <th>Name</th>\n",
              "      <th>No. of members</th>\n",
              "      <th>Amt of grocery purchased in a week(in kg)</th>\n",
              "      <th>Wholesale/Retail</th>\n",
              "    </tr>\n",
              "  </thead>\n",
              "  <tbody>\n",
              "    <tr>\n",
              "      <th>0</th>\n",
              "      <td>101</td>\n",
              "      <td>Anish</td>\n",
              "      <td>2</td>\n",
              "      <td>4</td>\n",
              "      <td>1</td>\n",
              "    </tr>\n",
              "    <tr>\n",
              "      <th>1</th>\n",
              "      <td>102</td>\n",
              "      <td>Gupta</td>\n",
              "      <td>4</td>\n",
              "      <td>8</td>\n",
              "      <td>0</td>\n",
              "    </tr>\n",
              "    <tr>\n",
              "      <th>2</th>\n",
              "      <td>103</td>\n",
              "      <td>Anisha</td>\n",
              "      <td>3</td>\n",
              "      <td>7</td>\n",
              "      <td>1</td>\n",
              "    </tr>\n",
              "    <tr>\n",
              "      <th>3</th>\n",
              "      <td>104</td>\n",
              "      <td>Sanjay</td>\n",
              "      <td>5</td>\n",
              "      <td>13</td>\n",
              "      <td>0</td>\n",
              "    </tr>\n",
              "    <tr>\n",
              "      <th>4</th>\n",
              "      <td>105</td>\n",
              "      <td>Pankhuri</td>\n",
              "      <td>3</td>\n",
              "      <td>4</td>\n",
              "      <td>1</td>\n",
              "    </tr>\n",
              "    <tr>\n",
              "      <th>...</th>\n",
              "      <td>...</td>\n",
              "      <td>...</td>\n",
              "      <td>...</td>\n",
              "      <td>...</td>\n",
              "      <td>...</td>\n",
              "    </tr>\n",
              "    <tr>\n",
              "      <th>121</th>\n",
              "      <td>1201</td>\n",
              "      <td>Amit</td>\n",
              "      <td>2</td>\n",
              "      <td>3</td>\n",
              "      <td>1</td>\n",
              "    </tr>\n",
              "    <tr>\n",
              "      <th>122</th>\n",
              "      <td>1202</td>\n",
              "      <td>Om</td>\n",
              "      <td>3</td>\n",
              "      <td>3</td>\n",
              "      <td>1</td>\n",
              "    </tr>\n",
              "    <tr>\n",
              "      <th>123</th>\n",
              "      <td>1203</td>\n",
              "      <td>Jhamb</td>\n",
              "      <td>7</td>\n",
              "      <td>20</td>\n",
              "      <td>0</td>\n",
              "    </tr>\n",
              "    <tr>\n",
              "      <th>124</th>\n",
              "      <td>1204</td>\n",
              "      <td>Kusum</td>\n",
              "      <td>5</td>\n",
              "      <td>18</td>\n",
              "      <td>0</td>\n",
              "    </tr>\n",
              "    <tr>\n",
              "      <th>125</th>\n",
              "      <td>1210</td>\n",
              "      <td>Lucky</td>\n",
              "      <td>3</td>\n",
              "      <td>10</td>\n",
              "      <td>0</td>\n",
              "    </tr>\n",
              "  </tbody>\n",
              "</table>\n",
              "<p>126 rows × 5 columns</p>\n",
              "</div>\n",
              "    <div class=\"colab-df-buttons\">\n",
              "\n",
              "  <div class=\"colab-df-container\">\n",
              "    <button class=\"colab-df-convert\" onclick=\"convertToInteractive('df-c839b77d-a220-4cbd-a7b5-e372e1853fe1')\"\n",
              "            title=\"Convert this dataframe to an interactive table.\"\n",
              "            style=\"display:none;\">\n",
              "\n",
              "  <svg xmlns=\"http://www.w3.org/2000/svg\" height=\"24px\" viewBox=\"0 -960 960 960\">\n",
              "    <path d=\"M120-120v-720h720v720H120Zm60-500h600v-160H180v160Zm220 220h160v-160H400v160Zm0 220h160v-160H400v160ZM180-400h160v-160H180v160Zm440 0h160v-160H620v160ZM180-180h160v-160H180v160Zm440 0h160v-160H620v160Z\"/>\n",
              "  </svg>\n",
              "    </button>\n",
              "\n",
              "  <style>\n",
              "    .colab-df-container {\n",
              "      display:flex;\n",
              "      gap: 12px;\n",
              "    }\n",
              "\n",
              "    .colab-df-convert {\n",
              "      background-color: #E8F0FE;\n",
              "      border: none;\n",
              "      border-radius: 50%;\n",
              "      cursor: pointer;\n",
              "      display: none;\n",
              "      fill: #1967D2;\n",
              "      height: 32px;\n",
              "      padding: 0 0 0 0;\n",
              "      width: 32px;\n",
              "    }\n",
              "\n",
              "    .colab-df-convert:hover {\n",
              "      background-color: #E2EBFA;\n",
              "      box-shadow: 0px 1px 2px rgba(60, 64, 67, 0.3), 0px 1px 3px 1px rgba(60, 64, 67, 0.15);\n",
              "      fill: #174EA6;\n",
              "    }\n",
              "\n",
              "    .colab-df-buttons div {\n",
              "      margin-bottom: 4px;\n",
              "    }\n",
              "\n",
              "    [theme=dark] .colab-df-convert {\n",
              "      background-color: #3B4455;\n",
              "      fill: #D2E3FC;\n",
              "    }\n",
              "\n",
              "    [theme=dark] .colab-df-convert:hover {\n",
              "      background-color: #434B5C;\n",
              "      box-shadow: 0px 1px 3px 1px rgba(0, 0, 0, 0.15);\n",
              "      filter: drop-shadow(0px 1px 2px rgba(0, 0, 0, 0.3));\n",
              "      fill: #FFFFFF;\n",
              "    }\n",
              "  </style>\n",
              "\n",
              "    <script>\n",
              "      const buttonEl =\n",
              "        document.querySelector('#df-c839b77d-a220-4cbd-a7b5-e372e1853fe1 button.colab-df-convert');\n",
              "      buttonEl.style.display =\n",
              "        google.colab.kernel.accessAllowed ? 'block' : 'none';\n",
              "\n",
              "      async function convertToInteractive(key) {\n",
              "        const element = document.querySelector('#df-c839b77d-a220-4cbd-a7b5-e372e1853fe1');\n",
              "        const dataTable =\n",
              "          await google.colab.kernel.invokeFunction('convertToInteractive',\n",
              "                                                    [key], {});\n",
              "        if (!dataTable) return;\n",
              "\n",
              "        const docLinkHtml = 'Like what you see? Visit the ' +\n",
              "          '<a target=\"_blank\" href=https://colab.research.google.com/notebooks/data_table.ipynb>data table notebook</a>'\n",
              "          + ' to learn more about interactive tables.';\n",
              "        element.innerHTML = '';\n",
              "        dataTable['output_type'] = 'display_data';\n",
              "        await google.colab.output.renderOutput(dataTable, element);\n",
              "        const docLink = document.createElement('div');\n",
              "        docLink.innerHTML = docLinkHtml;\n",
              "        element.appendChild(docLink);\n",
              "      }\n",
              "    </script>\n",
              "  </div>\n",
              "\n",
              "\n",
              "<div id=\"df-91c052b2-22bc-4bdf-ab55-50eb68c28639\">\n",
              "  <button class=\"colab-df-quickchart\" onclick=\"quickchart('df-91c052b2-22bc-4bdf-ab55-50eb68c28639')\"\n",
              "            title=\"Suggest charts\"\n",
              "            style=\"display:none;\">\n",
              "\n",
              "<svg xmlns=\"http://www.w3.org/2000/svg\" height=\"24px\"viewBox=\"0 0 24 24\"\n",
              "     width=\"24px\">\n",
              "    <g>\n",
              "        <path d=\"M19 3H5c-1.1 0-2 .9-2 2v14c0 1.1.9 2 2 2h14c1.1 0 2-.9 2-2V5c0-1.1-.9-2-2-2zM9 17H7v-7h2v7zm4 0h-2V7h2v10zm4 0h-2v-4h2v4z\"/>\n",
              "    </g>\n",
              "</svg>\n",
              "  </button>\n",
              "\n",
              "<style>\n",
              "  .colab-df-quickchart {\n",
              "      --bg-color: #E8F0FE;\n",
              "      --fill-color: #1967D2;\n",
              "      --hover-bg-color: #E2EBFA;\n",
              "      --hover-fill-color: #174EA6;\n",
              "      --disabled-fill-color: #AAA;\n",
              "      --disabled-bg-color: #DDD;\n",
              "  }\n",
              "\n",
              "  [theme=dark] .colab-df-quickchart {\n",
              "      --bg-color: #3B4455;\n",
              "      --fill-color: #D2E3FC;\n",
              "      --hover-bg-color: #434B5C;\n",
              "      --hover-fill-color: #FFFFFF;\n",
              "      --disabled-bg-color: #3B4455;\n",
              "      --disabled-fill-color: #666;\n",
              "  }\n",
              "\n",
              "  .colab-df-quickchart {\n",
              "    background-color: var(--bg-color);\n",
              "    border: none;\n",
              "    border-radius: 50%;\n",
              "    cursor: pointer;\n",
              "    display: none;\n",
              "    fill: var(--fill-color);\n",
              "    height: 32px;\n",
              "    padding: 0;\n",
              "    width: 32px;\n",
              "  }\n",
              "\n",
              "  .colab-df-quickchart:hover {\n",
              "    background-color: var(--hover-bg-color);\n",
              "    box-shadow: 0 1px 2px rgba(60, 64, 67, 0.3), 0 1px 3px 1px rgba(60, 64, 67, 0.15);\n",
              "    fill: var(--button-hover-fill-color);\n",
              "  }\n",
              "\n",
              "  .colab-df-quickchart-complete:disabled,\n",
              "  .colab-df-quickchart-complete:disabled:hover {\n",
              "    background-color: var(--disabled-bg-color);\n",
              "    fill: var(--disabled-fill-color);\n",
              "    box-shadow: none;\n",
              "  }\n",
              "\n",
              "  .colab-df-spinner {\n",
              "    border: 2px solid var(--fill-color);\n",
              "    border-color: transparent;\n",
              "    border-bottom-color: var(--fill-color);\n",
              "    animation:\n",
              "      spin 1s steps(1) infinite;\n",
              "  }\n",
              "\n",
              "  @keyframes spin {\n",
              "    0% {\n",
              "      border-color: transparent;\n",
              "      border-bottom-color: var(--fill-color);\n",
              "      border-left-color: var(--fill-color);\n",
              "    }\n",
              "    20% {\n",
              "      border-color: transparent;\n",
              "      border-left-color: var(--fill-color);\n",
              "      border-top-color: var(--fill-color);\n",
              "    }\n",
              "    30% {\n",
              "      border-color: transparent;\n",
              "      border-left-color: var(--fill-color);\n",
              "      border-top-color: var(--fill-color);\n",
              "      border-right-color: var(--fill-color);\n",
              "    }\n",
              "    40% {\n",
              "      border-color: transparent;\n",
              "      border-right-color: var(--fill-color);\n",
              "      border-top-color: var(--fill-color);\n",
              "    }\n",
              "    60% {\n",
              "      border-color: transparent;\n",
              "      border-right-color: var(--fill-color);\n",
              "    }\n",
              "    80% {\n",
              "      border-color: transparent;\n",
              "      border-right-color: var(--fill-color);\n",
              "      border-bottom-color: var(--fill-color);\n",
              "    }\n",
              "    90% {\n",
              "      border-color: transparent;\n",
              "      border-bottom-color: var(--fill-color);\n",
              "    }\n",
              "  }\n",
              "</style>\n",
              "\n",
              "  <script>\n",
              "    async function quickchart(key) {\n",
              "      const quickchartButtonEl =\n",
              "        document.querySelector('#' + key + ' button');\n",
              "      quickchartButtonEl.disabled = true;  // To prevent multiple clicks.\n",
              "      quickchartButtonEl.classList.add('colab-df-spinner');\n",
              "      try {\n",
              "        const charts = await google.colab.kernel.invokeFunction(\n",
              "            'suggestCharts', [key], {});\n",
              "      } catch (error) {\n",
              "        console.error('Error during call to suggestCharts:', error);\n",
              "      }\n",
              "      quickchartButtonEl.classList.remove('colab-df-spinner');\n",
              "      quickchartButtonEl.classList.add('colab-df-quickchart-complete');\n",
              "    }\n",
              "    (() => {\n",
              "      let quickchartButtonEl =\n",
              "        document.querySelector('#df-91c052b2-22bc-4bdf-ab55-50eb68c28639 button');\n",
              "      quickchartButtonEl.style.display =\n",
              "        google.colab.kernel.accessAllowed ? 'block' : 'none';\n",
              "    })();\n",
              "  </script>\n",
              "</div>\n",
              "    </div>\n",
              "  </div>\n"
            ],
            "application/vnd.google.colaboratory.intrinsic+json": {
              "type": "dataframe",
              "variable_name": "dataset",
              "summary": "{\n  \"name\": \"dataset\",\n  \"rows\": 126,\n  \"fields\": [\n    {\n      \"column\": \"Flat no.\",\n      \"properties\": {\n        \"dtype\": \"number\",\n        \"std\": 332,\n        \"min\": 101,\n        \"max\": 1210,\n        \"num_unique_values\": 126,\n        \"samples\": [\n          708,\n          209,\n          1107\n        ],\n        \"semantic_type\": \"\",\n        \"description\": \"\"\n      }\n    },\n    {\n      \"column\": \"Name\",\n      \"properties\": {\n        \"dtype\": \"string\",\n        \"num_unique_values\": 120,\n        \"samples\": [\n          \"Panwar\",\n          \"Virendra\",\n          \"Pankhuri\"\n        ],\n        \"semantic_type\": \"\",\n        \"description\": \"\"\n      }\n    },\n    {\n      \"column\": \"No. of members\",\n      \"properties\": {\n        \"dtype\": \"number\",\n        \"std\": 1,\n        \"min\": 1,\n        \"max\": 7,\n        \"num_unique_values\": 7,\n        \"samples\": [\n          2,\n          4,\n          6\n        ],\n        \"semantic_type\": \"\",\n        \"description\": \"\"\n      }\n    },\n    {\n      \"column\": \"Amt of grocery purchased in a week(in kg)\",\n      \"properties\": {\n        \"dtype\": \"number\",\n        \"std\": 4,\n        \"min\": 1,\n        \"max\": 20,\n        \"num_unique_values\": 18,\n        \"samples\": [\n          4,\n          8,\n          6\n        ],\n        \"semantic_type\": \"\",\n        \"description\": \"\"\n      }\n    },\n    {\n      \"column\": \"Wholesale/Retail\",\n      \"properties\": {\n        \"dtype\": \"number\",\n        \"std\": 0,\n        \"min\": 0,\n        \"max\": 1,\n        \"num_unique_values\": 2,\n        \"samples\": [\n          0,\n          1\n        ],\n        \"semantic_type\": \"\",\n        \"description\": \"\"\n      }\n    }\n  ]\n}"
            }
          },
          "metadata": {},
          "execution_count": 19
        }
      ]
    },
    {
      "cell_type": "code",
      "source": [
        "x=dataset.iloc[:,2:4].values\n",
        "x"
      ],
      "metadata": {
        "id": "AqJmbuNi3as8",
        "colab": {
          "base_uri": "https://localhost:8080/"
        },
        "outputId": "45f0b884-f261-4561-b72e-4984a6995de4"
      },
      "execution_count": 3,
      "outputs": [
        {
          "output_type": "execute_result",
          "data": {
            "text/plain": [
              "array([[ 2,  4],\n",
              "       [ 4,  8],\n",
              "       [ 3,  7],\n",
              "       [ 5, 13],\n",
              "       [ 3,  4],\n",
              "       [ 1,  3],\n",
              "       [ 2,  5],\n",
              "       [ 3,  8],\n",
              "       [ 4,  5],\n",
              "       [ 4, 10],\n",
              "       [ 3,  4],\n",
              "       [ 2,  5],\n",
              "       [ 3,  8],\n",
              "       [ 4, 11],\n",
              "       [ 3,  5],\n",
              "       [ 2,  6],\n",
              "       [ 4, 12],\n",
              "       [ 2,  6],\n",
              "       [ 5, 14],\n",
              "       [ 3,  9],\n",
              "       [ 1,  2],\n",
              "       [ 3, 10],\n",
              "       [ 4,  8],\n",
              "       [ 2,  5],\n",
              "       [ 4, 13],\n",
              "       [ 3,  9],\n",
              "       [ 3,  6],\n",
              "       [ 5, 15],\n",
              "       [ 3,  4],\n",
              "       [ 4, 10],\n",
              "       [ 5, 16],\n",
              "       [ 2,  8],\n",
              "       [ 2,  3],\n",
              "       [ 4, 12],\n",
              "       [ 2,  3],\n",
              "       [ 4,  8],\n",
              "       [ 3, 10],\n",
              "       [ 2,  3],\n",
              "       [ 5, 15],\n",
              "       [ 1,  2],\n",
              "       [ 3, 10],\n",
              "       [ 3,  9],\n",
              "       [ 3,  3],\n",
              "       [ 3,  5],\n",
              "       [ 2,  4],\n",
              "       [ 4, 10],\n",
              "       [ 2,  4],\n",
              "       [ 3,  9],\n",
              "       [ 2,  6],\n",
              "       [ 4, 13],\n",
              "       [ 4, 12],\n",
              "       [ 4, 12],\n",
              "       [ 2,  6],\n",
              "       [ 5, 15],\n",
              "       [ 4, 10],\n",
              "       [ 3,  9],\n",
              "       [ 5, 18],\n",
              "       [ 5, 14],\n",
              "       [ 3,  7],\n",
              "       [ 2,  4],\n",
              "       [ 3,  9],\n",
              "       [ 2,  3],\n",
              "       [ 4, 11],\n",
              "       [ 4, 10],\n",
              "       [ 1,  1],\n",
              "       [ 5,  5],\n",
              "       [ 6,  6],\n",
              "       [ 3,  6],\n",
              "       [ 2,  3],\n",
              "       [ 4, 12],\n",
              "       [ 3, 10],\n",
              "       [ 2,  5],\n",
              "       [ 4,  5],\n",
              "       [ 3,  4],\n",
              "       [ 2,  3],\n",
              "       [ 4, 11],\n",
              "       [ 5, 15],\n",
              "       [ 2,  1],\n",
              "       [ 2,  2],\n",
              "       [ 3,  9],\n",
              "       [ 2,  4],\n",
              "       [ 4, 13],\n",
              "       [ 5, 16],\n",
              "       [ 4, 11],\n",
              "       [ 2,  1],\n",
              "       [ 3, 10],\n",
              "       [ 2,  4],\n",
              "       [ 6,  4],\n",
              "       [ 4, 12],\n",
              "       [ 3,  9],\n",
              "       [ 2,  6],\n",
              "       [ 1,  3],\n",
              "       [ 4,  8],\n",
              "       [ 4,  5],\n",
              "       [ 3,  9],\n",
              "       [ 4,  2],\n",
              "       [ 2,  3],\n",
              "       [ 3,  9],\n",
              "       [ 5, 15],\n",
              "       [ 2,  1],\n",
              "       [ 3,  6],\n",
              "       [ 6, 20],\n",
              "       [ 3,  3],\n",
              "       [ 4,  3],\n",
              "       [ 1,  3],\n",
              "       [ 3,  8],\n",
              "       [ 4, 10],\n",
              "       [ 4, 13],\n",
              "       [ 2,  5],\n",
              "       [ 3,  9],\n",
              "       [ 4, 12],\n",
              "       [ 2,  5],\n",
              "       [ 4,  8],\n",
              "       [ 3,  4],\n",
              "       [ 6, 20],\n",
              "       [ 3,  7],\n",
              "       [ 4,  8],\n",
              "       [ 3,  6],\n",
              "       [ 1,  3],\n",
              "       [ 3,  7],\n",
              "       [ 3,  7],\n",
              "       [ 2,  3],\n",
              "       [ 3,  3],\n",
              "       [ 7, 20],\n",
              "       [ 5, 18],\n",
              "       [ 3, 10]])"
            ]
          },
          "metadata": {},
          "execution_count": 3
        }
      ]
    },
    {
      "cell_type": "code",
      "source": [
        "from sklearn import preprocessing\n",
        "sc=preprocessing.StandardScaler()\n",
        "z=sc.fit_transform(x)\n",
        "z\n"
      ],
      "metadata": {
        "id": "QVlbWfL1Cdv0",
        "colab": {
          "base_uri": "https://localhost:8080/"
        },
        "outputId": "3ec06f40-26c9-48b1-b0db-74931038b4db"
      },
      "execution_count": 4,
      "outputs": [
        {
          "output_type": "execute_result",
          "data": {
            "text/plain": [
              "array([[-1.01668045, -0.8604948 ],\n",
              "       [ 0.62564951,  0.0392757 ],\n",
              "       [-0.19551547, -0.18566693],\n",
              "       [ 1.44681449,  1.16398882],\n",
              "       [-0.19551547, -0.8604948 ],\n",
              "       [-1.83784543, -1.08543742],\n",
              "       [-1.01668045, -0.63555218],\n",
              "       [-0.19551547,  0.0392757 ],\n",
              "       [ 0.62564951, -0.63555218],\n",
              "       [ 0.62564951,  0.48916094],\n",
              "       [-0.19551547, -0.8604948 ],\n",
              "       [-1.01668045, -0.63555218],\n",
              "       [-0.19551547,  0.0392757 ],\n",
              "       [ 0.62564951,  0.71410357],\n",
              "       [-0.19551547, -0.63555218],\n",
              "       [-1.01668045, -0.41060955],\n",
              "       [ 0.62564951,  0.93904619],\n",
              "       [-1.01668045, -0.41060955],\n",
              "       [ 1.44681449,  1.38893144],\n",
              "       [-0.19551547,  0.26421832],\n",
              "       [-1.83784543, -1.31038005],\n",
              "       [-0.19551547,  0.48916094],\n",
              "       [ 0.62564951,  0.0392757 ],\n",
              "       [-1.01668045, -0.63555218],\n",
              "       [ 0.62564951,  1.16398882],\n",
              "       [-0.19551547,  0.26421832],\n",
              "       [-0.19551547, -0.41060955],\n",
              "       [ 1.44681449,  1.61387406],\n",
              "       [-0.19551547, -0.8604948 ],\n",
              "       [ 0.62564951,  0.48916094],\n",
              "       [ 1.44681449,  1.83881669],\n",
              "       [-1.01668045,  0.0392757 ],\n",
              "       [-1.01668045, -1.08543742],\n",
              "       [ 0.62564951,  0.93904619],\n",
              "       [-1.01668045, -1.08543742],\n",
              "       [ 0.62564951,  0.0392757 ],\n",
              "       [-0.19551547,  0.48916094],\n",
              "       [-1.01668045, -1.08543742],\n",
              "       [ 1.44681449,  1.61387406],\n",
              "       [-1.83784543, -1.31038005],\n",
              "       [-0.19551547,  0.48916094],\n",
              "       [-0.19551547,  0.26421832],\n",
              "       [-0.19551547, -1.08543742],\n",
              "       [-0.19551547, -0.63555218],\n",
              "       [-1.01668045, -0.8604948 ],\n",
              "       [ 0.62564951,  0.48916094],\n",
              "       [-1.01668045, -0.8604948 ],\n",
              "       [-0.19551547,  0.26421832],\n",
              "       [-1.01668045, -0.41060955],\n",
              "       [ 0.62564951,  1.16398882],\n",
              "       [ 0.62564951,  0.93904619],\n",
              "       [ 0.62564951,  0.93904619],\n",
              "       [-1.01668045, -0.41060955],\n",
              "       [ 1.44681449,  1.61387406],\n",
              "       [ 0.62564951,  0.48916094],\n",
              "       [-0.19551547,  0.26421832],\n",
              "       [ 1.44681449,  2.28870194],\n",
              "       [ 1.44681449,  1.38893144],\n",
              "       [-0.19551547, -0.18566693],\n",
              "       [-1.01668045, -0.8604948 ],\n",
              "       [-0.19551547,  0.26421832],\n",
              "       [-1.01668045, -1.08543742],\n",
              "       [ 0.62564951,  0.71410357],\n",
              "       [ 0.62564951,  0.48916094],\n",
              "       [-1.83784543, -1.53532267],\n",
              "       [ 1.44681449, -0.63555218],\n",
              "       [ 2.26797947, -0.41060955],\n",
              "       [-0.19551547, -0.41060955],\n",
              "       [-1.01668045, -1.08543742],\n",
              "       [ 0.62564951,  0.93904619],\n",
              "       [-0.19551547,  0.48916094],\n",
              "       [-1.01668045, -0.63555218],\n",
              "       [ 0.62564951, -0.63555218],\n",
              "       [-0.19551547, -0.8604948 ],\n",
              "       [-1.01668045, -1.08543742],\n",
              "       [ 0.62564951,  0.71410357],\n",
              "       [ 1.44681449,  1.61387406],\n",
              "       [-1.01668045, -1.53532267],\n",
              "       [-1.01668045, -1.31038005],\n",
              "       [-0.19551547,  0.26421832],\n",
              "       [-1.01668045, -0.8604948 ],\n",
              "       [ 0.62564951,  1.16398882],\n",
              "       [ 1.44681449,  1.83881669],\n",
              "       [ 0.62564951,  0.71410357],\n",
              "       [-1.01668045, -1.53532267],\n",
              "       [-0.19551547,  0.48916094],\n",
              "       [-1.01668045, -0.8604948 ],\n",
              "       [ 2.26797947, -0.8604948 ],\n",
              "       [ 0.62564951,  0.93904619],\n",
              "       [-0.19551547,  0.26421832],\n",
              "       [-1.01668045, -0.41060955],\n",
              "       [-1.83784543, -1.08543742],\n",
              "       [ 0.62564951,  0.0392757 ],\n",
              "       [ 0.62564951, -0.63555218],\n",
              "       [-0.19551547,  0.26421832],\n",
              "       [ 0.62564951, -1.31038005],\n",
              "       [-1.01668045, -1.08543742],\n",
              "       [-0.19551547,  0.26421832],\n",
              "       [ 1.44681449,  1.61387406],\n",
              "       [-1.01668045, -1.53532267],\n",
              "       [-0.19551547, -0.41060955],\n",
              "       [ 2.26797947,  2.73858718],\n",
              "       [-0.19551547, -1.08543742],\n",
              "       [ 0.62564951, -1.08543742],\n",
              "       [-1.83784543, -1.08543742],\n",
              "       [-0.19551547,  0.0392757 ],\n",
              "       [ 0.62564951,  0.48916094],\n",
              "       [ 0.62564951,  1.16398882],\n",
              "       [-1.01668045, -0.63555218],\n",
              "       [-0.19551547,  0.26421832],\n",
              "       [ 0.62564951,  0.93904619],\n",
              "       [-1.01668045, -0.63555218],\n",
              "       [ 0.62564951,  0.0392757 ],\n",
              "       [-0.19551547, -0.8604948 ],\n",
              "       [ 2.26797947,  2.73858718],\n",
              "       [-0.19551547, -0.18566693],\n",
              "       [ 0.62564951,  0.0392757 ],\n",
              "       [-0.19551547, -0.41060955],\n",
              "       [-1.83784543, -1.08543742],\n",
              "       [-0.19551547, -0.18566693],\n",
              "       [-0.19551547, -0.18566693],\n",
              "       [-1.01668045, -1.08543742],\n",
              "       [-0.19551547, -1.08543742],\n",
              "       [ 3.08914445,  2.73858718],\n",
              "       [ 1.44681449,  2.28870194],\n",
              "       [-0.19551547,  0.48916094]])"
            ]
          },
          "metadata": {},
          "execution_count": 4
        }
      ]
    },
    {
      "cell_type": "code",
      "source": [
        "y=dataset.iloc[:,-1].values\n"
      ],
      "metadata": {
        "id": "59zqLrxcHtFE"
      },
      "execution_count": 5,
      "outputs": []
    },
    {
      "cell_type": "code",
      "source": [
        "from sklearn.model_selection import train_test_split\n",
        "x_train,x_test,y_train,y_test=train_test_split(x,y,test_size=0.25,random_state=0)\n"
      ],
      "metadata": {
        "id": "Cf_uITHrJYi8"
      },
      "execution_count": 6,
      "outputs": []
    },
    {
      "cell_type": "code",
      "source": [
        "x_train=sc.fit_transform(x_train)\n",
        "x_test=sc.fit_transform(x_test)"
      ],
      "metadata": {
        "id": "AQ-6Vv1gKTcP"
      },
      "execution_count": 7,
      "outputs": []
    },
    {
      "cell_type": "markdown",
      "source": [
        "  **KNN**"
      ],
      "metadata": {
        "id": "E9QLBu8SRZBm"
      }
    },
    {
      "cell_type": "code",
      "source": [
        "from sklearn.neighbors import KNeighborsClassifier\n",
        "classifier=KNeighborsClassifier()\n",
        "classifier.fit(x_train,y_train)"
      ],
      "metadata": {
        "id": "C1phazHHKnK5",
        "colab": {
          "base_uri": "https://localhost:8080/",
          "height": 74
        },
        "outputId": "9203c9dd-26c9-4883-a68b-68db20676656"
      },
      "execution_count": 8,
      "outputs": [
        {
          "output_type": "execute_result",
          "data": {
            "text/plain": [
              "KNeighborsClassifier()"
            ],
            "text/html": [
              "<style>#sk-container-id-1 {color: black;background-color: white;}#sk-container-id-1 pre{padding: 0;}#sk-container-id-1 div.sk-toggleable {background-color: white;}#sk-container-id-1 label.sk-toggleable__label {cursor: pointer;display: block;width: 100%;margin-bottom: 0;padding: 0.3em;box-sizing: border-box;text-align: center;}#sk-container-id-1 label.sk-toggleable__label-arrow:before {content: \"▸\";float: left;margin-right: 0.25em;color: #696969;}#sk-container-id-1 label.sk-toggleable__label-arrow:hover:before {color: black;}#sk-container-id-1 div.sk-estimator:hover label.sk-toggleable__label-arrow:before {color: black;}#sk-container-id-1 div.sk-toggleable__content {max-height: 0;max-width: 0;overflow: hidden;text-align: left;background-color: #f0f8ff;}#sk-container-id-1 div.sk-toggleable__content pre {margin: 0.2em;color: black;border-radius: 0.25em;background-color: #f0f8ff;}#sk-container-id-1 input.sk-toggleable__control:checked~div.sk-toggleable__content {max-height: 200px;max-width: 100%;overflow: auto;}#sk-container-id-1 input.sk-toggleable__control:checked~label.sk-toggleable__label-arrow:before {content: \"▾\";}#sk-container-id-1 div.sk-estimator input.sk-toggleable__control:checked~label.sk-toggleable__label {background-color: #d4ebff;}#sk-container-id-1 div.sk-label input.sk-toggleable__control:checked~label.sk-toggleable__label {background-color: #d4ebff;}#sk-container-id-1 input.sk-hidden--visually {border: 0;clip: rect(1px 1px 1px 1px);clip: rect(1px, 1px, 1px, 1px);height: 1px;margin: -1px;overflow: hidden;padding: 0;position: absolute;width: 1px;}#sk-container-id-1 div.sk-estimator {font-family: monospace;background-color: #f0f8ff;border: 1px dotted black;border-radius: 0.25em;box-sizing: border-box;margin-bottom: 0.5em;}#sk-container-id-1 div.sk-estimator:hover {background-color: #d4ebff;}#sk-container-id-1 div.sk-parallel-item::after {content: \"\";width: 100%;border-bottom: 1px solid gray;flex-grow: 1;}#sk-container-id-1 div.sk-label:hover label.sk-toggleable__label {background-color: #d4ebff;}#sk-container-id-1 div.sk-serial::before {content: \"\";position: absolute;border-left: 1px solid gray;box-sizing: border-box;top: 0;bottom: 0;left: 50%;z-index: 0;}#sk-container-id-1 div.sk-serial {display: flex;flex-direction: column;align-items: center;background-color: white;padding-right: 0.2em;padding-left: 0.2em;position: relative;}#sk-container-id-1 div.sk-item {position: relative;z-index: 1;}#sk-container-id-1 div.sk-parallel {display: flex;align-items: stretch;justify-content: center;background-color: white;position: relative;}#sk-container-id-1 div.sk-item::before, #sk-container-id-1 div.sk-parallel-item::before {content: \"\";position: absolute;border-left: 1px solid gray;box-sizing: border-box;top: 0;bottom: 0;left: 50%;z-index: -1;}#sk-container-id-1 div.sk-parallel-item {display: flex;flex-direction: column;z-index: 1;position: relative;background-color: white;}#sk-container-id-1 div.sk-parallel-item:first-child::after {align-self: flex-end;width: 50%;}#sk-container-id-1 div.sk-parallel-item:last-child::after {align-self: flex-start;width: 50%;}#sk-container-id-1 div.sk-parallel-item:only-child::after {width: 0;}#sk-container-id-1 div.sk-dashed-wrapped {border: 1px dashed gray;margin: 0 0.4em 0.5em 0.4em;box-sizing: border-box;padding-bottom: 0.4em;background-color: white;}#sk-container-id-1 div.sk-label label {font-family: monospace;font-weight: bold;display: inline-block;line-height: 1.2em;}#sk-container-id-1 div.sk-label-container {text-align: center;}#sk-container-id-1 div.sk-container {/* jupyter's `normalize.less` sets `[hidden] { display: none; }` but bootstrap.min.css set `[hidden] { display: none !important; }` so we also need the `!important` here to be able to override the default hidden behavior on the sphinx rendered scikit-learn.org. See: https://github.com/scikit-learn/scikit-learn/issues/21755 */display: inline-block !important;position: relative;}#sk-container-id-1 div.sk-text-repr-fallback {display: none;}</style><div id=\"sk-container-id-1\" class=\"sk-top-container\"><div class=\"sk-text-repr-fallback\"><pre>KNeighborsClassifier()</pre><b>In a Jupyter environment, please rerun this cell to show the HTML representation or trust the notebook. <br />On GitHub, the HTML representation is unable to render, please try loading this page with nbviewer.org.</b></div><div class=\"sk-container\" hidden><div class=\"sk-item\"><div class=\"sk-estimator sk-toggleable\"><input class=\"sk-toggleable__control sk-hidden--visually\" id=\"sk-estimator-id-1\" type=\"checkbox\" checked><label for=\"sk-estimator-id-1\" class=\"sk-toggleable__label sk-toggleable__label-arrow\">KNeighborsClassifier</label><div class=\"sk-toggleable__content\"><pre>KNeighborsClassifier()</pre></div></div></div></div></div>"
            ]
          },
          "metadata": {},
          "execution_count": 8
        }
      ]
    },
    {
      "cell_type": "code",
      "source": [
        "y_pred=classifier.predict(x_test)\n",
        "print(np.concatenate((y_pred.reshape(len(y_pred),1),y_test.reshape(len(y_test),1)),1))\n"
      ],
      "metadata": {
        "id": "EGiJA80uK99W",
        "colab": {
          "base_uri": "https://localhost:8080/"
        },
        "outputId": "5d525934-eae4-4087-c802-4eca8a5c1606"
      },
      "execution_count": 9,
      "outputs": [
        {
          "output_type": "stream",
          "name": "stdout",
          "text": [
            "[[1 1]\n",
            " [0 0]\n",
            " [1 1]\n",
            " [0 0]\n",
            " [0 0]\n",
            " [1 1]\n",
            " [0 0]\n",
            " [1 1]\n",
            " [1 1]\n",
            " [0 1]\n",
            " [1 1]\n",
            " [1 1]\n",
            " [0 0]\n",
            " [1 1]\n",
            " [1 1]\n",
            " [1 1]\n",
            " [1 1]\n",
            " [1 1]\n",
            " [0 0]\n",
            " [0 0]\n",
            " [0 0]\n",
            " [0 0]\n",
            " [1 0]\n",
            " [1 1]\n",
            " [0 0]\n",
            " [0 0]\n",
            " [0 0]\n",
            " [0 0]\n",
            " [0 0]\n",
            " [0 0]\n",
            " [1 1]\n",
            " [1 1]]\n"
          ]
        }
      ]
    },
    {
      "cell_type": "code",
      "source": [
        "from sklearn.metrics import accuracy_score\n",
        "print(accuracy_score(y_test,y_pred))"
      ],
      "metadata": {
        "colab": {
          "base_uri": "https://localhost:8080/"
        },
        "id": "Ie6hwAi5pidF",
        "outputId": "bcc33797-a234-4c33-d52f-f97153bcd201"
      },
      "execution_count": 10,
      "outputs": [
        {
          "output_type": "stream",
          "name": "stdout",
          "text": [
            "0.9375\n"
          ]
        }
      ]
    },
    {
      "cell_type": "markdown",
      "source": [
        "**ANN**"
      ],
      "metadata": {
        "id": "cUPpR4a6qj-M"
      }
    },
    {
      "cell_type": "code",
      "source": [
        "import tensorflow as tf\n"
      ],
      "metadata": {
        "id": "QX-NfzPpqTRr"
      },
      "execution_count": 11,
      "outputs": []
    },
    {
      "cell_type": "code",
      "source": [
        "ann = tf.keras.models.Sequential()\n",
        "ann.add(tf.keras.layers.Dense(units=10, activation='relu'))\n",
        "ann.add(tf.keras.layers.Dense(units=1, activation='sigmoid'))"
      ],
      "metadata": {
        "id": "7RSjO2T3qsU0"
      },
      "execution_count": 12,
      "outputs": []
    },
    {
      "cell_type": "code",
      "source": [
        "ann.compile(optimizer = 'adam', loss = 'binary_crossentropy', metrics = ['accuracy'])"
      ],
      "metadata": {
        "id": "Shkk65qdrFFk"
      },
      "execution_count": 13,
      "outputs": []
    },
    {
      "cell_type": "code",
      "source": [
        "ann.fit(x_train, y_train, batch_size = 25, epochs = 25)"
      ],
      "metadata": {
        "colab": {
          "base_uri": "https://localhost:8080/"
        },
        "id": "yfxIrXYrrJ0G",
        "outputId": "03789625-e487-4368-cf23-1f37ea2e10cc"
      },
      "execution_count": 14,
      "outputs": [
        {
          "output_type": "stream",
          "name": "stdout",
          "text": [
            "Epoch 1/25\n",
            "4/4 [==============================] - 1s 9ms/step - loss: 0.6109 - accuracy: 0.5532\n",
            "Epoch 2/25\n",
            "4/4 [==============================] - 0s 5ms/step - loss: 0.6037 - accuracy: 0.6809\n",
            "Epoch 3/25\n",
            "4/4 [==============================] - 0s 5ms/step - loss: 0.5970 - accuracy: 0.7340\n",
            "Epoch 4/25\n",
            "4/4 [==============================] - 0s 6ms/step - loss: 0.5903 - accuracy: 0.7660\n",
            "Epoch 5/25\n",
            "4/4 [==============================] - 0s 5ms/step - loss: 0.5831 - accuracy: 0.7766\n",
            "Epoch 6/25\n",
            "4/4 [==============================] - 0s 5ms/step - loss: 0.5764 - accuracy: 0.7766\n",
            "Epoch 7/25\n",
            "4/4 [==============================] - 0s 6ms/step - loss: 0.5698 - accuracy: 0.7766\n",
            "Epoch 8/25\n",
            "4/4 [==============================] - 0s 5ms/step - loss: 0.5631 - accuracy: 0.7766\n",
            "Epoch 9/25\n",
            "4/4 [==============================] - 0s 6ms/step - loss: 0.5572 - accuracy: 0.7766\n",
            "Epoch 10/25\n",
            "4/4 [==============================] - 0s 5ms/step - loss: 0.5504 - accuracy: 0.7766\n",
            "Epoch 11/25\n",
            "4/4 [==============================] - 0s 6ms/step - loss: 0.5440 - accuracy: 0.7766\n",
            "Epoch 12/25\n",
            "4/4 [==============================] - 0s 7ms/step - loss: 0.5379 - accuracy: 0.7766\n",
            "Epoch 13/25\n",
            "4/4 [==============================] - 0s 8ms/step - loss: 0.5317 - accuracy: 0.7766\n",
            "Epoch 14/25\n",
            "4/4 [==============================] - 0s 7ms/step - loss: 0.5262 - accuracy: 0.7766\n",
            "Epoch 15/25\n",
            "4/4 [==============================] - 0s 5ms/step - loss: 0.5200 - accuracy: 0.7766\n",
            "Epoch 16/25\n",
            "4/4 [==============================] - 0s 7ms/step - loss: 0.5143 - accuracy: 0.7766\n",
            "Epoch 17/25\n",
            "4/4 [==============================] - 0s 8ms/step - loss: 0.5091 - accuracy: 0.7766\n",
            "Epoch 18/25\n",
            "4/4 [==============================] - 0s 7ms/step - loss: 0.5037 - accuracy: 0.7766\n",
            "Epoch 19/25\n",
            "4/4 [==============================] - 0s 7ms/step - loss: 0.4984 - accuracy: 0.7766\n",
            "Epoch 20/25\n",
            "4/4 [==============================] - 0s 7ms/step - loss: 0.4929 - accuracy: 0.7766\n",
            "Epoch 21/25\n",
            "4/4 [==============================] - 0s 8ms/step - loss: 0.4880 - accuracy: 0.7766\n",
            "Epoch 22/25\n",
            "4/4 [==============================] - 0s 7ms/step - loss: 0.4825 - accuracy: 0.7766\n",
            "Epoch 23/25\n",
            "4/4 [==============================] - 0s 6ms/step - loss: 0.4778 - accuracy: 0.7766\n",
            "Epoch 24/25\n",
            "4/4 [==============================] - 0s 7ms/step - loss: 0.4725 - accuracy: 0.7766\n",
            "Epoch 25/25\n",
            "4/4 [==============================] - 0s 6ms/step - loss: 0.4674 - accuracy: 0.7766\n"
          ]
        },
        {
          "output_type": "execute_result",
          "data": {
            "text/plain": [
              "<keras.src.callbacks.History at 0x7d8cc4792aa0>"
            ]
          },
          "metadata": {},
          "execution_count": 14
        }
      ]
    },
    {
      "cell_type": "code",
      "source": [
        "y_pred = ann.predict(x_test)\n",
        "y_pred = (y_pred > 0.5)\n",
        "print(np.concatenate((y_pred.reshape(len(y_pred),1), y_test.reshape(len(y_test),1)),1))"
      ],
      "metadata": {
        "colab": {
          "base_uri": "https://localhost:8080/"
        },
        "id": "aDykCTAkrN2x",
        "outputId": "3b100c9c-0e04-48f6-9fac-c4431be6c7c5"
      },
      "execution_count": 15,
      "outputs": [
        {
          "output_type": "stream",
          "name": "stdout",
          "text": [
            "1/1 [==============================] - 0s 85ms/step\n",
            "[[1 1]\n",
            " [0 0]\n",
            " [1 1]\n",
            " [0 0]\n",
            " [0 0]\n",
            " [1 1]\n",
            " [0 0]\n",
            " [1 1]\n",
            " [1 1]\n",
            " [0 1]\n",
            " [1 1]\n",
            " [1 1]\n",
            " [0 0]\n",
            " [1 1]\n",
            " [1 1]\n",
            " [1 1]\n",
            " [1 1]\n",
            " [1 1]\n",
            " [0 0]\n",
            " [0 0]\n",
            " [0 0]\n",
            " [0 0]\n",
            " [1 0]\n",
            " [1 1]\n",
            " [0 0]\n",
            " [0 0]\n",
            " [0 0]\n",
            " [0 0]\n",
            " [0 0]\n",
            " [0 0]\n",
            " [1 1]\n",
            " [1 1]]\n"
          ]
        }
      ]
    },
    {
      "cell_type": "code",
      "source": [
        "from sklearn.metrics import accuracy_score\n",
        "print(accuracy_score(y_test,y_pred))"
      ],
      "metadata": {
        "colab": {
          "base_uri": "https://localhost:8080/"
        },
        "id": "Dy-l0SX1rcTO",
        "outputId": "8c9479fb-d49d-4906-e16c-4094169b587e"
      },
      "execution_count": 16,
      "outputs": [
        {
          "output_type": "stream",
          "name": "stdout",
          "text": [
            "0.9375\n"
          ]
        }
      ]
    },
    {
      "cell_type": "markdown",
      "source": [
        "**Logistic Regression**"
      ],
      "metadata": {
        "id": "vDUi9J6iruDS"
      }
    },
    {
      "cell_type": "code",
      "source": [
        "from sklearn.linear_model import LogisticRegression\n",
        "lg=LogisticRegression()\n",
        "lg.fit(x_train,y_train)\n",
        "y_pred = lg.predict(x_test)"
      ],
      "metadata": {
        "id": "nMVGR9I5rzEJ"
      },
      "execution_count": 17,
      "outputs": []
    },
    {
      "cell_type": "code",
      "source": [
        "from sklearn.metrics import accuracy_score\n",
        "print(accuracy_score(y_test,y_pred))"
      ],
      "metadata": {
        "colab": {
          "base_uri": "https://localhost:8080/"
        },
        "id": "iiFWXzmgsYdu",
        "outputId": "6e9e7aa3-fad2-4f73-bd4b-cf9883caf025"
      },
      "execution_count": 18,
      "outputs": [
        {
          "output_type": "stream",
          "name": "stdout",
          "text": [
            "0.875\n"
          ]
        }
      ]
    }
  ]
}